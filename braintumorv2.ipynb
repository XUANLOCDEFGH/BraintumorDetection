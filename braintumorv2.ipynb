{
 "cells": [
  {
   "cell_type": "code",
   "execution_count": 5,
   "metadata": {},
   "outputs": [],
   "source": [
    "import os\n",
    "import torch\n",
    "from torch.utils.data import DataLoader\n",
    "from torchvision import transforms\n",
    "from torchvision.datasets import ImageFolder\n",
    "from sklearn.model_selection import train_test_split\n",
    "from sklearn.ensemble import RandomForestClassifier\n",
    "from sklearn.metrics import accuracy_score, classification_report\n",
    "from tqdm import tqdm\n",
    "from PIL import Image\n",
    "import pytorch_lightning as pl\n"
   ]
  },
  {
   "cell_type": "code",
   "execution_count": 6,
   "metadata": {},
   "outputs": [],
   "source": [
    "class BrainDataModule:\n",
    "    def __init__(self, data_dir, batch_size, num_classes):\n",
    "        self.data_dir = data_dir\n",
    "        self.batch_size = batch_size\n",
    "        self.transform_train = transforms.Compose([\n",
    "            transforms.Resize((256, 256)),  # Giữ nguyên kích thước\n",
    "            transforms.RandomHorizontalFlip(),\n",
    "            transforms.RandomVerticalFlip(),\n",
    "            transforms.RandomAffine(5, translate=[0, .1], scale=[.9, 1.1]),\n",
    "            transforms.ToTensor(),\n",
    "            transforms.Normalize(mean=[0.485, 0.456, 0.406], std=[0.229, 0.224, 0.225])\n",
    "        ])\n",
    "        self.transform = transforms.Compose([\n",
    "            transforms.Resize((256, 256)),  # Giữ nguyên kích thước\n",
    "            transforms.ToTensor(),\n",
    "            transforms.Normalize(mean=[0.485, 0.456, 0.406], std=[0.229, 0.224, 0.225])\n",
    "        ])\n",
    "        self.num_classes = num_classes  # Thêm thuộc tính num_classes\n",
    "\n",
    "    def setup(self, stage=None):\n",
    "        if stage == 'fit' or stage is None:\n",
    "            self.train = ImageFolder(\n",
    "                os.path.join(self.data_dir, \"train\"), transform=self.transform_train\n",
    "            )\n",
    "            self.val = ImageFolder(\n",
    "                os.path.join(self.data_dir, \"val\"), transform=self.transform\n",
    "            )\n",
    "\n",
    "        if stage == 'test' or stage is None:\n",
    "            self.test = ImageFolder(\n",
    "                os.path.join(self.data_dir, \"test\"), transform=self.transform\n",
    "            )\n",
    "\n",
    "    def train_dataloader(self):\n",
    "        return DataLoader(self.train, batch_size=self.batch_size, shuffle=True)\n",
    "\n",
    "    def val_dataloader(self):\n",
    "        return DataLoader(self.val, batch_size=self.batch_size)\n",
    "\n",
    "    def test_dataloader(self):\n",
    "        return DataLoader(self.test, batch_size=self.batch_size)\n"
   ]
  },
  {
   "cell_type": "code",
   "execution_count": 50,
   "metadata": {},
   "outputs": [
    {
     "name": "stderr",
     "output_type": "stream",
     "text": [
      "GPU available: True (cuda), used: True\n",
      "TPU available: False, using: 0 TPU cores\n",
      "IPU available: False, using: 0 IPUs\n",
      "HPU available: False, using: 0 HPUs\n"
     ]
    }
   ],
   "source": [
    "# Đường dẫn đến dữ liệu của bạn\n",
    "data_dir = \"G:/BrainTumorV2/Dataset(1)\"\n",
    "\n",
    "# Số lớp của mô hình Random Forest\n",
    "num_classes_rf = 4  # Thay bằng số lớp thích hợp\n",
    "\n",
    "# Tạo data module\n",
    "data_module = BrainDataModule(data_dir, batch_size=32, num_classes=num_classes_rf)\n",
    "data_module.setup()\n",
    "\n",
    "# Load dữ liệu\n",
    "train_dataloader = data_module.train_dataloader()\n",
    "val_dataloader = data_module.val_dataloader()\n",
    "# Tạo một PyTorch Lightning Trainer với GPU (nếu có)\n",
    "trainer = pl.Trainer(max_epochs=50, accelerator='gpu')\n",
    "# Chuẩn bị mô hình Random Forest\n",
    "input_size = 256 * 256 * 3  # Kích thước ảnh 256x256 và có 3 channels\n",
    "rf_model = RandomForestClassifier(n_estimators=2002,\n",
    "    max_depth=50,\n",
    "    min_samples_split=22,\n",
    "    min_samples_leaf=15,\n",
    "    random_state=46)\n"
   ]
  },
  {
   "cell_type": "code",
   "execution_count": 51,
   "metadata": {},
   "outputs": [
    {
     "name": "stderr",
     "output_type": "stream",
     "text": [
      "100%|██████████| 68/68 [05:41<00:00,  5.02s/it]\n",
      "100%|██████████| 10/10 [00:05<00:00,  1.89it/s]"
     ]
    },
    {
     "name": "stdout",
     "output_type": "stream",
     "text": [
      "Training Accuracy: 0.3745958429561201\n",
      "Validation Accuracy: 0.29449838187702265\n",
      "Validation Classification Report:\n",
      "               precision    recall  f1-score   support\n",
      "\n",
      "           0       0.00      0.00      0.00        90\n",
      "           1       0.29      1.00      0.46        91\n",
      "           2       0.00      0.00      0.00        44\n",
      "           3       0.00      0.00      0.00        84\n",
      "\n",
      "    accuracy                           0.29       309\n",
      "   macro avg       0.07      0.25      0.11       309\n",
      "weighted avg       0.09      0.29      0.13       309\n",
      "\n"
     ]
    },
    {
     "name": "stderr",
     "output_type": "stream",
     "text": [
      "\n",
      "c:\\Users\\nguye\\anaconda3\\lib\\site-packages\\sklearn\\metrics\\_classification.py:1318: UndefinedMetricWarning: Precision and F-score are ill-defined and being set to 0.0 in labels with no predicted samples. Use `zero_division` parameter to control this behavior.\n",
      "  _warn_prf(average, modifier, msg_start, len(result))\n",
      "c:\\Users\\nguye\\anaconda3\\lib\\site-packages\\sklearn\\metrics\\_classification.py:1318: UndefinedMetricWarning: Precision and F-score are ill-defined and being set to 0.0 in labels with no predicted samples. Use `zero_division` parameter to control this behavior.\n",
      "  _warn_prf(average, modifier, msg_start, len(result))\n",
      "c:\\Users\\nguye\\anaconda3\\lib\\site-packages\\sklearn\\metrics\\_classification.py:1318: UndefinedMetricWarning: Precision and F-score are ill-defined and being set to 0.0 in labels with no predicted samples. Use `zero_division` parameter to control this behavior.\n",
      "  _warn_prf(average, modifier, msg_start, len(result))\n"
     ]
    }
   ],
   "source": [
    "# Huấn luyện mô hình\n",
    "all_labels = []\n",
    "all_predictions = []\n",
    "\n",
    "for batch in tqdm(train_dataloader):\n",
    "    x, y = batch\n",
    "    x = x.view(x.size(0), -1)  # Flatten ảnh thành vector\n",
    "    rf_model.fit(x.numpy(), y.numpy())\n",
    "    all_labels.extend(y.numpy())\n",
    "    all_predictions.extend(rf_model.predict(x.numpy()))\n",
    "\n",
    "# Đánh giá mô hình trên tập validation\n",
    "val_labels = []\n",
    "val_predictions = []\n",
    "\n",
    "for batch in tqdm(val_dataloader):\n",
    "    x_val, y_val = batch\n",
    "    x_val = x_val.view(x_val.size(0), -1)\n",
    "    val_labels.extend(y_val.numpy())\n",
    "    val_predictions.extend(rf_model.predict(x_val.numpy()))\n",
    "\n",
    "# In độ chính xác và báo cáo phân loại\n",
    "train_accuracy = accuracy_score(all_labels, all_predictions)\n",
    "val_accuracy = accuracy_score(val_labels, val_predictions)\n",
    "\n",
    "print(f\"Training Accuracy: {train_accuracy}\")\n",
    "print(f\"Validation Accuracy: {val_accuracy}\")\n",
    "\n",
    "val_classification_report = classification_report(val_labels, val_predictions)\n",
    "print(\"Validation Classification Report:\\n\", val_classification_report)\n"
   ]
  }
 ],
 "metadata": {
  "kernelspec": {
   "display_name": "base",
   "language": "python",
   "name": "python3"
  },
  "language_info": {
   "codemirror_mode": {
    "name": "ipython",
    "version": 3
   },
   "file_extension": ".py",
   "mimetype": "text/x-python",
   "name": "python",
   "nbconvert_exporter": "python",
   "pygments_lexer": "ipython3",
   "version": "3.9.18"
  }
 },
 "nbformat": 4,
 "nbformat_minor": 2
}
